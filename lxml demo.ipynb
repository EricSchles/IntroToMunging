{
 "metadata": {
  "name": "",
  "signature": "sha256:ebada90b08484630197dfd68474af1726ffafbd3f96bb8771ed01139103952a7"
 },
 "nbformat": 3,
 "nbformat_minor": 0,
 "worksheets": [
  {
   "cells": [
    {
     "cell_type": "code",
     "collapsed": false,
     "input": [
      "import lxml.html\n",
      "import requests\n",
      "\n",
      "r = requests.get(\"https://www.google.com\")\n",
      "\n",
      "html = lxml.html.fromstring(r.text)\n",
      "link_obj = html.xpath(\"//a\") #change this...\n",
      "link_text =  [elem.text_content() for elem in link_obj]\n",
      "possible_links = [elem.values() for elem in link_obj]\n",
      "\n",
      "links = []\n",
      "for obj in possible_links:\n",
      "    for i in obj:\n",
      "        if \"http\" in i:\n",
      "            links.append(i)\n",
      "print links"
     ],
     "language": "python",
     "metadata": {},
     "outputs": [
      {
       "output_type": "stream",
       "stream": "stdout",
       "text": [
        "['https://www.google.com/imghp?hl=en&tab=wi', 'https://maps.google.com/maps?hl=en&tab=wl', 'https://play.google.com/?hl=en&tab=w8', 'https://www.youtube.com/?tab=w1', 'https://news.google.com/nwshp?hl=en&tab=wn', 'https://mail.google.com/mail/?tab=wm', 'https://drive.google.com/?tab=wo', 'http://www.google.com/intl/en/options/', 'http://www.google.com/history/optout?hl=en', 'https://accounts.google.com/ServiceLogin?hl=en&continue=https://www.google.com/', 'https://plus.google.com/116899029375914044550']\n"
       ]
      }
     ],
     "prompt_number": 2
    },
    {
     "cell_type": "code",
     "collapsed": false,
     "input": [
      "def clean_str(string):\n",
      "    if len(string) > 18:\n",
      "        return ''\n",
      "    if string == '' or string == ' ' or string == '  ':\n",
      "        return ''\n",
      "    string = string.encode('ascii','ignore')\n",
      "    string = string.replace(\"\\r\",\"\")\n",
      "    string = string.replace(\"\\t\",\"\")\n",
      "    string = string.replace(\"\\n\",\"\")\n",
      "    return string\n",
      "\n",
      "\n",
      "import re\n",
      "r = requests.get(\"http://www.baseballamerica.com/statistics/teams/players/?tm_id=1028&y=2014\")\n",
      "html_yanks = lxml.html.fromstring(r.text)\n",
      "tables = html_yanks.xpath('//table[@class=\"small\"]')\n",
      "#print len(tables)\n",
      "batting,pitching = tables\n",
      "\n",
      "batting_obj = batting.xpath(\"//td\")\n",
      "pitching_obj = pitching.xpath(\"//td\")\n",
      "\n",
      "batting_stats = []\n",
      "\n",
      "for ind,val in enumerate(batting_obj):\n",
      "    if ind > 480:\n",
      "        break\n",
      "    tmp = val.text_content()\n",
      "    tmp = clean_str(tmp)\n",
      "    if tmp == '' or tmp == ' ' or tmp == '  ':\n",
      "        continue\n",
      "    if ind < len(batting_obj)-2:\n",
      "        next_tmp = clean_str(batting_obj[ind+1].text_content())\n",
      "    else:\n",
      "        next_tmp = ''\n",
      "    tmp += \",\"\n",
      "    if ind == 27:\n",
      "        tmp += \"\\n\"\n",
      "    if next_tmp != '':\n",
      "        if ind > 27 and (re.match('[a-zA-Z]',next_tmp) is not None):\n",
      "            tmp += \"\\n\"\n",
      "    batting_stats.append(tmp)\n",
      "    \n",
      "with open(\"batting_yanks.csv\",\"w\") as bat:\n",
      "    for i in batting_stats:\n",
      "        bat.write(i)"
     ],
     "language": "python",
     "metadata": {},
     "outputs": [],
     "prompt_number": 4
    }
   ],
   "metadata": {}
  }
 ]
}