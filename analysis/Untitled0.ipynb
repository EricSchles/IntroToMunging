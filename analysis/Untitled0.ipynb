{
 "metadata": {
  "name": "",
  "signature": "sha256:4a07c6a8665590007b31d78ccf6ca6d72cd7cb9d8f456fb7c0eadc0c7dc79449"
 },
 "nbformat": 3,
 "nbformat_minor": 0,
 "worksheets": [
  {
   "cells": [
    {
     "cell_type": "code",
     "collapsed": false,
     "input": [
      "from vincent import *\n",
      "initialize_notebook()\n",
      "list_data = [10, 20, 30, 20, 15, 30, 45]\n",
      "line = Line(list_data)\n",
      "line.axis_titles(x='Index',y='Value')\n",
      "line"
     ],
     "language": "python",
     "metadata": {},
     "outputs": [
      {
       "html": [
        "\n",
        "           <script>\n",
        "               \n",
        "                function vct_load_lib(url, callback){\n",
        "                      if(typeof d3 !== 'undefined' &&\n",
        "                         url === 'http://d3js.org/d3.v3.min.js'){\n",
        "                        callback()\n",
        "                      }\n",
        "                      var s = document.createElement('script');\n",
        "                      s.src = url;\n",
        "                      s.async = true;\n",
        "                      s.onreadystatechange = s.onload = callback;\n",
        "                      s.onerror = function(){\n",
        "                        console.warn(\"failed to load library \" + url);\n",
        "                        };\n",
        "                      document.getElementsByTagName(\"head\")[0].appendChild(s);\n",
        "                };\n",
        "                var vincent_event = new CustomEvent(\n",
        "                  \"vincent_libs_loaded\",\n",
        "                  {bubbles: true, cancelable: true}\n",
        "                );\n",
        "                \n",
        "               function load_all_libs(){\n",
        "                  console.log('Loading Vincent libs...')\n",
        "                  vct_load_lib('http://d3js.org/d3.v3.min.js', function(){\n",
        "                  vct_load_lib('http://d3js.org/d3.geo.projection.v0.min.js', function(){\n",
        "                  vct_load_lib('http://wrobstory.github.io/d3-cloud/d3.layout.cloud.js', function(){\n",
        "                  vct_load_lib('http://wrobstory.github.io/vega/vega.v1.3.3.js', function(){\n",
        "                  window.dispatchEvent(vincent_event);\n",
        "                  });\n",
        "                  });\n",
        "                  });\n",
        "                  });\n",
        "               };\n",
        "               if(typeof define === \"function\" && define.amd){\n",
        "                    if (window['d3'] === undefined ||\n",
        "                        window['topojson'] === undefined){\n",
        "                        require.config(\n",
        "                            {paths: {\n",
        "                              d3: 'http://d3js.org/d3.v3.min',\n",
        "                              topojson: 'http://d3js.org/topojson.v1.min'\n",
        "                              }\n",
        "                            }\n",
        "                          );\n",
        "                        require([\"d3\"], function(d3){\n",
        "                            console.log('Loading Vincent from require.js...')\n",
        "                            window.d3 = d3;\n",
        "                            require([\"topojson\"], function(topojson){\n",
        "                                window.topojson = topojson;\n",
        "                                load_all_libs();\n",
        "                            });\n",
        "                        });\n",
        "                    } else {\n",
        "                        load_all_libs();\n",
        "                    };\n",
        "               }else{\n",
        "                    console.log('Require.js not found, loading manually...')\n",
        "                    load_all_libs();\n",
        "               };\n",
        "\n",
        "           </script>"
       ],
       "metadata": {},
       "output_type": "display_data",
       "text": [
        "<IPython.core.display.HTML at 0x2a71bd0>"
       ]
      },
      {
       "html": [
        "<div id=\"vis47a29d0d44374f68909ab001a2674b6d\"></div>\n",
        "<script>\n",
        "   ( function() {\n",
        "     var _do_plot = function() {\n",
        "       if (typeof vg === 'undefined') {\n",
        "         window.addEventListener('vincent_libs_loaded', _do_plot)\n",
        "         return;\n",
        "       }\n",
        "       vg.parse.spec({\"axes\": [{\"scale\": \"x\", \"title\": \"Index\", \"type\": \"x\"}, {\"scale\": \"y\", \"title\": \"Value\", \"type\": \"y\"}], \"data\": [{\"name\": \"table\", \"values\": [{\"col\": \"data\", \"idx\": 0, \"val\": 10}, {\"col\": \"data\", \"idx\": 1, \"val\": 20}, {\"col\": \"data\", \"idx\": 2, \"val\": 30}, {\"col\": \"data\", \"idx\": 3, \"val\": 20}, {\"col\": \"data\", \"idx\": 4, \"val\": 15}, {\"col\": \"data\", \"idx\": 5, \"val\": 30}, {\"col\": \"data\", \"idx\": 6, \"val\": 45}]}], \"height\": 500, \"legends\": [], \"marks\": [{\"from\": {\"data\": \"table\", \"transform\": [{\"keys\": [\"data.col\"], \"type\": \"facet\"}]}, \"marks\": [{\"properties\": {\"enter\": {\"stroke\": {\"field\": \"data.col\", \"scale\": \"color\"}, \"strokeWidth\": {\"value\": 2}, \"x\": {\"field\": \"data.idx\", \"scale\": \"x\"}, \"y\": {\"field\": \"data.val\", \"scale\": \"y\"}}}, \"type\": \"line\"}], \"type\": \"group\"}], \"padding\": \"auto\", \"scales\": [{\"domain\": {\"data\": \"table\", \"field\": \"data.idx\"}, \"name\": \"x\", \"range\": \"width\", \"type\": \"linear\"}, {\"domain\": {\"data\": \"table\", \"field\": \"data.val\"}, \"name\": \"y\", \"nice\": true, \"range\": \"height\"}, {\"domain\": {\"data\": \"table\", \"field\": \"data.col\"}, \"name\": \"color\", \"range\": \"category20\", \"type\": \"ordinal\"}], \"width\": 960}, function(chart) {\n",
        "         chart({el: \"#vis47a29d0d44374f68909ab001a2674b6d\"}).update();\n",
        "       });\n",
        "     };\n",
        "     _do_plot();\n",
        "   })();\n",
        "</script>\n",
        "<style>.vega canvas {width: 100%;}</style>\n",
        "        "
       ],
       "metadata": {},
       "output_type": "pyout",
       "prompt_number": 37,
       "text": [
        "<vincent.charts.Line at 0x2a7fbd0>"
       ]
      }
     ],
     "prompt_number": 37
    }
   ],
   "metadata": {}
  }
 ]
}