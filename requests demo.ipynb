{
 "metadata": {
  "name": "",
  "signature": "sha256:3f5c297ed12f1cc818a5810096d22eb90d277d07071c43a68b195f005badbb46"
 },
 "nbformat": 3,
 "nbformat_minor": 0,
 "worksheets": [
  {
   "cells": [
    {
     "cell_type": "code",
     "collapsed": false,
     "input": [
      "import requests\n",
      "\n",
      "#generic scrapping\n",
      "r = requests.get(\"https://www.google.com\")\n",
      "#print r.text #r.text is the full html page shown to the browser\n",
      "#print r.status_code #if request failed or succeeded and why\n",
      "#print r.apparent_encoding \n",
      "#r.close\n",
      "#print r.cookies\n",
      "#print r.headers\n",
      "#print r.is_redirect\n"
     ],
     "language": "python",
     "metadata": {},
     "outputs": [],
     "prompt_number": 31
    },
    {
     "cell_type": "code",
     "collapsed": false,
     "input": [
      "#logging in to a website, automatically\n",
      "#remember to start the server\n",
      "payload = {\n",
      "    'username':'admin',\n",
      "    'password':'pass'\n",
      "}\n",
      "\n",
      "with requests.Session() as s:\n",
      "    s.post(\"http://localhost:8000/login.html\",data=payload)\n",
      "    #print s.text\n",
      "    \n",
      "    r = s.get(\"http://localhost:8000/cgi-bin/login.py\")\n",
      "    print r.text"
     ],
     "language": "python",
     "metadata": {},
     "outputs": [],
     "prompt_number": 34
    },
    {
     "cell_type": "code",
     "collapsed": false,
     "input": [],
     "language": "python",
     "metadata": {},
     "outputs": []
    }
   ],
   "metadata": {}
  }
 ]
}